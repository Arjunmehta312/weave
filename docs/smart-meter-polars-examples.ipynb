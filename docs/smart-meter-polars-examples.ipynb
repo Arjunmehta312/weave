{
 "cells": [
  {
   "cell_type": "code",
   "execution_count": null,
   "metadata": {},
   "outputs": [],
   "source": [
    "import polars as pl\n",
    "\n",
    "# Read the monthly parquet file lazily\n",
    "df = pl.scan_parquet(\"s3://weave.energy/beta/smart-meter/2024-02.parquet\")\n",
    "\n",
    "# Example 1: Efficient filtering and aggregation\n",
    "hourly_consumption = (\n",
    "    df.filter(pl.col(\"dno_alias\") == \"SSEN\")\n",
    "    .groupby([\n",
    "        pl.col(\"data_collection_log_timestamp\").dt.hour(),\n",
    "        \"secondary_substation_unique_id\"\n",
    "    ])\n",
    "    .agg([\n",
    "        pl.col(\"total_consumption_active_import\").mean().alias(\"avg_consumption\")\n",
    "    ])\n",
    "    .collect()  # Only now is the data actually loaded\n",
    ")\n",
    "\n",
    "# Example 2: Time-based window operations\n",
    "daily_stats = (\n",
    "    df.groupby_dynamic(\"data_collection_log_timestamp\", every=\"1d\")\n",
    "    .agg([\n",
    "        pl.col(\"total_consumption_active_import\").sum().alias(\"daily_consumption\"),\n",
    "        pl.col(\"aggregated_device_count_active\").mean().alias(\"avg_active_devices\")\n",
    "    ])\n",
    "    .collect()\n",
    ")"
   ]
  }
 ],
 "metadata": {
  "language_info": {
   "name": "python"
  }
 },
 "nbformat": 4,
 "nbformat_minor": 2
}
