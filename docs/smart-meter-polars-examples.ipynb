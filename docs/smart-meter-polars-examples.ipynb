{
 "cells": [
  {
   "cell_type": "markdown",
   "metadata": {},
   "source": [
    "## Using Polars\n",
    "\n",
    "[Apache Arrow Polars](https://pola-rs.github.io/polars-book/user-guide/) is another powerful library for working with large datasets. It offers excellent performance and a convenient API for data manipulation, particularly when working with parquet files.\n",
    "\n",
    "Key benefits for working with smart meter data:\n",
    "- Lazy evaluation through `scan_parquet`\n",
    "- Efficient filtering and aggregation\n",
    "- Native support for time-based operations\n"
   ]
  },
  {
   "cell_type": "code",
   "execution_count": null,
   "metadata": {},
   "outputs": [],
   "source": [
    "import polars as pl\n",
    "import pyarrow.dataset as ds\n",
    "\n",
    "# Configure anonymous access\n",
    "storage_options = {\"anon\": True}\n",
    "\n",
    "# Read the parquet dataset using pyarrow with anonymous access\n",
    "dataset = ds.dataset(\"s3://weave.energy/smart-meter/\", format=\"parquet\", filesystem=ds.fs.S3FileSystem(**storage_options))\n",
    "df = pl.scan_pyarrow(dataset)\n",
    "\n",
    "# Example 1: Filter by timestamp\n",
    "settlement_period = \"2024-07-14 20:00:00\"\n",
    "filtered_by_time = (\n",
    "    df.filter(pl.col(\"data_collection_log_timestamp\") == settlement_period)\n",
    "    .collect()\n",
    ")\n",
    "\n",
    "# Example 2: Filter by substation\n",
    "substation_data = (\n",
    "    df.filter(pl.col(\"secondary_substation_unique_id\") == \"6400603160\")\n",
    "    .collect()\n",
    ")\n",
    "\n",
    "# Example 3: Efficient filtering and aggregation with lazy evaluation\n",
    "hourly_consumption = (\n",
    "    df.filter(pl.col(\"dno_alias\") == \"SSEN\")\n",
    "    .groupby([\n",
    "        pl.col(\"data_collection_log_timestamp\").dt.hour(),\n",
    "        \"secondary_substation_unique_id\"\n",
    "    ])\n",
    "    .agg([\n",
    "        pl.col(\"total_consumption_active_import\").mean().alias(\"avg_consumption\")\n",
    "    ])\n",
    "    .collect()  # Only now is the data actually loaded\n",
    ")\n",
    "\n",
    "# Example 4: Time-based window operations\n",
    "daily_stats = (\n",
    "    df.groupby_dynamic(\"data_collection_log_timestamp\", every=\"1d\")\n",
    "    .agg([\n",
    "        pl.col(\"total_consumption_active_import\").sum().alias(\"daily_consumption\"),\n",
    "        pl.col(\"aggregated_device_count_active\").mean().alias(\"avg_active_devices\")\n",
    "    ])\n",
    "    .collect()\n",
    ")"
   ]
  }
 ],
 "metadata": {
  "language_info": {
   "name": "python"
  }
 },
 "nbformat": 4,
 "nbformat_minor": 2
}
